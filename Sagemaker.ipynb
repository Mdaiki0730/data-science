{
 "cells": [
  {
   "cell_type": "code",
   "execution_count": 7,
   "metadata": {},
   "outputs": [
    {
     "name": "stdout",
     "output_type": "stream",
     "text": [
      "arn:aws:iam::156796224980:role/service-role/AmazonSageMaker-ExecutionRole-20210510T165865\n"
     ]
    }
   ],
   "source": [
    "role = \"arn:aws:iam::156796224980:role/service-role/AmazonSageMaker-ExecutionRole-20210510T165865\"\n",
    "print(role)"
   ]
  },
  {
   "cell_type": "code",
   "execution_count": null,
   "metadata": {},
   "outputs": [],
   "source": [
    "import numpy as np\n",
    "import mxnet as mx\n",
    "from mxnet.contrib import onnx as onnx_mxnet\n",
    "converted_onnx_filename='vgg16.onnx'\n",
    "\n",
    "# Export MXNet model to ONNX format via MXNet's export_model API\n",
    "converted_onnx_filename=onnx_mxnet.export_model('vgg16-symbol.json', 'vgg16-0000.params', [(1,3,224,224)], np.float32, converted_onnx_filename)\n",
    "\n",
    "# Check that the newly created model is valid and meets ONNX specification.\n",
    "import onnx\n",
    "model_proto = onnx.load(converted_onnx_filename)\n",
    "onnx.checker.check_model(model_proto)\n"
   ]
  }
 ],
 "metadata": {
  "kernelspec": {
   "display_name": "Python 3",
   "language": "python",
   "name": "python3"
  },
  "language_info": {
   "codemirror_mode": {
    "name": "ipython",
    "version": 3
   },
   "file_extension": ".py",
   "mimetype": "text/x-python",
   "name": "python",
   "nbconvert_exporter": "python",
   "pygments_lexer": "ipython3",
   "version": "3.7.3"
  }
 },
 "nbformat": 4,
 "nbformat_minor": 2
}
